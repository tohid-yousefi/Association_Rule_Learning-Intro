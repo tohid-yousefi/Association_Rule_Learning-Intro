{
 "cells": [
  {
   "cell_type": "markdown",
   "metadata": {
    "id": "2EW8as0kyqQW"
   },
   "source": [
    "# ASSOCIATION RULE LEARNING\n",
    "\n",
    "📌 The steps to create a association rule learning are as follows:\n",
    "\n",
    "  * Import Dataset\n",
    "\n",
    "  * Data Preprocessing\n",
    "\n",
    "  * Preparing ARL Data Structure (Invoice-Product Matrix)\n",
    "\n",
    "  * Application: Association Rule Learning Recommender"
   ]
  },
  {
   "cell_type": "markdown",
   "metadata": {
    "id": "kbTM7BAJFJVS"
   },
   "source": [
    "# Import Necessary Libraries"
   ]
  },
  {
   "cell_type": "code",
   "execution_count": 1,
   "metadata": {
    "colab": {
     "base_uri": "https://localhost:8080/"
    },
    "id": "d4VUvNcpypbD",
    "outputId": "8ae94d1f-22bd-4ad7-bd01-9d19b77156c2"
   },
   "outputs": [
    {
     "name": "stdout",
     "output_type": "stream",
     "text": [
      "Requirement already satisfied: mlxtend in c:\\users\\tohid\\anaconda3\\lib\\site-packages (0.23.1)\n",
      "Requirement already satisfied: scipy>=1.2.1 in c:\\users\\tohid\\anaconda3\\lib\\site-packages (from mlxtend) (1.10.1)\n",
      "Requirement already satisfied: numpy>=1.16.2 in c:\\users\\tohid\\anaconda3\\lib\\site-packages (from mlxtend) (1.24.3)\n",
      "Requirement already satisfied: pandas>=0.24.2 in c:\\users\\tohid\\anaconda3\\lib\\site-packages (from mlxtend) (1.5.3)\n",
      "Requirement already satisfied: scikit-learn>=1.0.2 in c:\\users\\tohid\\anaconda3\\lib\\site-packages (from mlxtend) (1.3.0)\n",
      "Requirement already satisfied: matplotlib>=3.0.0 in c:\\users\\tohid\\anaconda3\\lib\\site-packages (from mlxtend) (3.7.1)\n",
      "Requirement already satisfied: joblib>=0.13.2 in c:\\users\\tohid\\anaconda3\\lib\\site-packages (from mlxtend) (1.2.0)\n",
      "Requirement already satisfied: contourpy>=1.0.1 in c:\\users\\tohid\\anaconda3\\lib\\site-packages (from matplotlib>=3.0.0->mlxtend) (1.0.5)\n",
      "Requirement already satisfied: cycler>=0.10 in c:\\users\\tohid\\anaconda3\\lib\\site-packages (from matplotlib>=3.0.0->mlxtend) (0.11.0)\n",
      "Requirement already satisfied: fonttools>=4.22.0 in c:\\users\\tohid\\anaconda3\\lib\\site-packages (from matplotlib>=3.0.0->mlxtend) (4.25.0)\n",
      "Requirement already satisfied: kiwisolver>=1.0.1 in c:\\users\\tohid\\anaconda3\\lib\\site-packages (from matplotlib>=3.0.0->mlxtend) (1.4.4)\n",
      "Requirement already satisfied: packaging>=20.0 in c:\\users\\tohid\\anaconda3\\lib\\site-packages (from matplotlib>=3.0.0->mlxtend) (23.0)\n",
      "Requirement already satisfied: pillow>=6.2.0 in c:\\users\\tohid\\anaconda3\\lib\\site-packages (from matplotlib>=3.0.0->mlxtend) (9.4.0)\n",
      "Requirement already satisfied: pyparsing>=2.3.1 in c:\\users\\tohid\\anaconda3\\lib\\site-packages (from matplotlib>=3.0.0->mlxtend) (3.0.9)\n",
      "Requirement already satisfied: python-dateutil>=2.7 in c:\\users\\tohid\\anaconda3\\lib\\site-packages (from matplotlib>=3.0.0->mlxtend) (2.8.2)\n",
      "Requirement already satisfied: pytz>=2020.1 in c:\\users\\tohid\\anaconda3\\lib\\site-packages (from pandas>=0.24.2->mlxtend) (2022.7)\n",
      "Requirement already satisfied: threadpoolctl>=2.0.0 in c:\\users\\tohid\\anaconda3\\lib\\site-packages (from scikit-learn>=1.0.2->mlxtend) (2.2.0)\n",
      "Requirement already satisfied: six>=1.5 in c:\\users\\tohid\\anaconda3\\lib\\site-packages (from python-dateutil>=2.7->matplotlib>=3.0.0->mlxtend) (1.16.0)\n"
     ]
    }
   ],
   "source": [
    "!pip install mlxtend\n",
    "import numpy as np\n",
    "import pandas as pd\n",
    "pd.set_option(\"display.max_columns\",None)\n",
    "pd.set_option(\"display.max_rows\",None)\n",
    "pd.set_option(\"display.width\",500)\n",
    "from mlxtend.frequent_patterns import apriori, association_rules\n",
    "\n",
    "import warnings\n",
    "warnings.filterwarnings('ignore')"
   ]
  },
  {
   "cell_type": "markdown",
   "metadata": {
    "id": "AMmc9QQAz71C"
   },
   "source": [
    "## Import Dataset\n",
    "\n",
    "If you want to download the dataset, you can use this <a href=\"https://archive.ics.uci.edu/ml/datasets/Online+Retail+II\">link</a>"
   ]
  },
  {
   "cell_type": "code",
   "execution_count": 2,
   "metadata": {
    "colab": {
     "base_uri": "https://localhost:8080/",
     "height": 206
    },
    "id": "_gjUvfm6zQRz",
    "outputId": "f6406c0d-69e0-48b8-9ad1-68c328681f41"
   },
   "outputs": [
    {
     "data": {
      "text/html": [
       "<div>\n",
       "<style scoped>\n",
       "    .dataframe tbody tr th:only-of-type {\n",
       "        vertical-align: middle;\n",
       "    }\n",
       "\n",
       "    .dataframe tbody tr th {\n",
       "        vertical-align: top;\n",
       "    }\n",
       "\n",
       "    .dataframe thead th {\n",
       "        text-align: right;\n",
       "    }\n",
       "</style>\n",
       "<table border=\"1\" class=\"dataframe\">\n",
       "  <thead>\n",
       "    <tr style=\"text-align: right;\">\n",
       "      <th></th>\n",
       "      <th>Invoice</th>\n",
       "      <th>StockCode</th>\n",
       "      <th>Description</th>\n",
       "      <th>Quantity</th>\n",
       "      <th>InvoiceDate</th>\n",
       "      <th>Price</th>\n",
       "      <th>Customer ID</th>\n",
       "      <th>Country</th>\n",
       "    </tr>\n",
       "  </thead>\n",
       "  <tbody>\n",
       "    <tr>\n",
       "      <th>0</th>\n",
       "      <td>536365</td>\n",
       "      <td>85123A</td>\n",
       "      <td>WHITE HANGING HEART T-LIGHT HOLDER</td>\n",
       "      <td>6</td>\n",
       "      <td>2010-12-01 08:26:00</td>\n",
       "      <td>2.55</td>\n",
       "      <td>17850.0</td>\n",
       "      <td>United Kingdom</td>\n",
       "    </tr>\n",
       "    <tr>\n",
       "      <th>1</th>\n",
       "      <td>536365</td>\n",
       "      <td>71053</td>\n",
       "      <td>WHITE METAL LANTERN</td>\n",
       "      <td>6</td>\n",
       "      <td>2010-12-01 08:26:00</td>\n",
       "      <td>3.39</td>\n",
       "      <td>17850.0</td>\n",
       "      <td>United Kingdom</td>\n",
       "    </tr>\n",
       "    <tr>\n",
       "      <th>2</th>\n",
       "      <td>536365</td>\n",
       "      <td>84406B</td>\n",
       "      <td>CREAM CUPID HEARTS COAT HANGER</td>\n",
       "      <td>8</td>\n",
       "      <td>2010-12-01 08:26:00</td>\n",
       "      <td>2.75</td>\n",
       "      <td>17850.0</td>\n",
       "      <td>United Kingdom</td>\n",
       "    </tr>\n",
       "    <tr>\n",
       "      <th>3</th>\n",
       "      <td>536365</td>\n",
       "      <td>84029G</td>\n",
       "      <td>KNITTED UNION FLAG HOT WATER BOTTLE</td>\n",
       "      <td>6</td>\n",
       "      <td>2010-12-01 08:26:00</td>\n",
       "      <td>3.39</td>\n",
       "      <td>17850.0</td>\n",
       "      <td>United Kingdom</td>\n",
       "    </tr>\n",
       "    <tr>\n",
       "      <th>4</th>\n",
       "      <td>536365</td>\n",
       "      <td>84029E</td>\n",
       "      <td>RED WOOLLY HOTTIE WHITE HEART.</td>\n",
       "      <td>6</td>\n",
       "      <td>2010-12-01 08:26:00</td>\n",
       "      <td>3.39</td>\n",
       "      <td>17850.0</td>\n",
       "      <td>United Kingdom</td>\n",
       "    </tr>\n",
       "  </tbody>\n",
       "</table>\n",
       "</div>"
      ],
      "text/plain": [
       "  Invoice StockCode                          Description  Quantity         InvoiceDate  Price  Customer ID         Country\n",
       "0  536365    85123A   WHITE HANGING HEART T-LIGHT HOLDER         6 2010-12-01 08:26:00   2.55      17850.0  United Kingdom\n",
       "1  536365     71053                  WHITE METAL LANTERN         6 2010-12-01 08:26:00   3.39      17850.0  United Kingdom\n",
       "2  536365    84406B       CREAM CUPID HEARTS COAT HANGER         8 2010-12-01 08:26:00   2.75      17850.0  United Kingdom\n",
       "3  536365    84029G  KNITTED UNION FLAG HOT WATER BOTTLE         6 2010-12-01 08:26:00   3.39      17850.0  United Kingdom\n",
       "4  536365    84029E       RED WOOLLY HOTTIE WHITE HEART.         6 2010-12-01 08:26:00   3.39      17850.0  United Kingdom"
      ]
     },
     "execution_count": 2,
     "metadata": {},
     "output_type": "execute_result"
    }
   ],
   "source": [
    "df_ = pd.read_excel(\"online_retail_II.xlsx\",sheet_name=\"Year 2010-2011\")\n",
    "df = df_.copy()\n",
    "df.head()"
   ]
  },
  {
   "cell_type": "code",
   "execution_count": 3,
   "metadata": {
    "colab": {
     "base_uri": "https://localhost:8080/",
     "height": 143
    },
    "id": "OQDn5ApZGoGl",
    "outputId": "ee3caa23-55ea-4334-9d78-f7295c0d9aaf"
   },
   "outputs": [
    {
     "data": {
      "text/html": [
       "<div>\n",
       "<style scoped>\n",
       "    .dataframe tbody tr th:only-of-type {\n",
       "        vertical-align: middle;\n",
       "    }\n",
       "\n",
       "    .dataframe tbody tr th {\n",
       "        vertical-align: top;\n",
       "    }\n",
       "\n",
       "    .dataframe thead th {\n",
       "        text-align: right;\n",
       "    }\n",
       "</style>\n",
       "<table border=\"1\" class=\"dataframe\">\n",
       "  <thead>\n",
       "    <tr style=\"text-align: right;\">\n",
       "      <th></th>\n",
       "      <th>count</th>\n",
       "      <th>mean</th>\n",
       "      <th>std</th>\n",
       "      <th>min</th>\n",
       "      <th>25%</th>\n",
       "      <th>50%</th>\n",
       "      <th>75%</th>\n",
       "      <th>max</th>\n",
       "    </tr>\n",
       "  </thead>\n",
       "  <tbody>\n",
       "    <tr>\n",
       "      <th>Quantity</th>\n",
       "      <td>541910.0</td>\n",
       "      <td>9.552234</td>\n",
       "      <td>218.080957</td>\n",
       "      <td>-80995.00</td>\n",
       "      <td>1.00</td>\n",
       "      <td>3.00</td>\n",
       "      <td>10.00</td>\n",
       "      <td>80995.0</td>\n",
       "    </tr>\n",
       "    <tr>\n",
       "      <th>Price</th>\n",
       "      <td>541910.0</td>\n",
       "      <td>4.611138</td>\n",
       "      <td>96.759765</td>\n",
       "      <td>-11062.06</td>\n",
       "      <td>1.25</td>\n",
       "      <td>2.08</td>\n",
       "      <td>4.13</td>\n",
       "      <td>38970.0</td>\n",
       "    </tr>\n",
       "    <tr>\n",
       "      <th>Customer ID</th>\n",
       "      <td>406830.0</td>\n",
       "      <td>15287.684160</td>\n",
       "      <td>1713.603074</td>\n",
       "      <td>12346.00</td>\n",
       "      <td>13953.00</td>\n",
       "      <td>15152.00</td>\n",
       "      <td>16791.00</td>\n",
       "      <td>18287.0</td>\n",
       "    </tr>\n",
       "  </tbody>\n",
       "</table>\n",
       "</div>"
      ],
      "text/plain": [
       "                count          mean          std       min       25%       50%       75%      max\n",
       "Quantity     541910.0      9.552234   218.080957 -80995.00      1.00      3.00     10.00  80995.0\n",
       "Price        541910.0      4.611138    96.759765 -11062.06      1.25      2.08      4.13  38970.0\n",
       "Customer ID  406830.0  15287.684160  1713.603074  12346.00  13953.00  15152.00  16791.00  18287.0"
      ]
     },
     "execution_count": 3,
     "metadata": {},
     "output_type": "execute_result"
    }
   ],
   "source": [
    "df.describe().T"
   ]
  },
  {
   "cell_type": "markdown",
   "metadata": {
    "id": "G6GfnFnW0vUp"
   },
   "source": [
    "## Data Preprocessing"
   ]
  },
  {
   "cell_type": "code",
   "execution_count": 4,
   "metadata": {
    "id": "jJ2tJ21PzsLC"
   },
   "outputs": [],
   "source": [
    "def outlier_thresholds(dataframe,variable):\n",
    "  quartile1 = dataframe[variable].quantile(0.01)\n",
    "  quartile3 = dataframe[variable].quantile(0.99)\n",
    "  interquartile_range = quartile3 - quartile1\n",
    "  up_limit = quartile3 + 1.5 * interquartile_range\n",
    "  low_limit = quartile1 - 1.5 * interquartile_range\n",
    "  return low_limit,up_limit"
   ]
  },
  {
   "cell_type": "code",
   "execution_count": 5,
   "metadata": {
    "id": "yO5mDahU0zDt"
   },
   "outputs": [],
   "source": [
    "def replace_with_thresholds(dataframe,variable):\n",
    "  low_limit,up_limit = outlier_thresholds(dataframe,variable)\n",
    "  dataframe.loc[(dataframe[variable] < low_limit), variable] = low_limit\n",
    "  dataframe.loc[(dataframe[variable] > up_limit), variable] = up_limit"
   ]
  },
  {
   "cell_type": "code",
   "execution_count": 6,
   "metadata": {
    "id": "RAfSDTZj1c-I"
   },
   "outputs": [],
   "source": [
    "def data_prep(dataframe):\n",
    "  dataframe.dropna(inplace=True)\n",
    "  dataframe = dataframe[~dataframe[\"Invoice\"].str.contains(\"C\",na=False)]\n",
    "  dataframe = dataframe[dataframe[\"Quantity\"] > 0]\n",
    "  dataframe = dataframe[dataframe[\"Price\"] > 0]\n",
    "  replace_with_thresholds(dataframe,\"Quantity\")\n",
    "  replace_with_thresholds(dataframe,\"Price\")\n",
    "  return dataframe"
   ]
  },
  {
   "cell_type": "code",
   "execution_count": 7,
   "metadata": {
    "colab": {
     "base_uri": "https://localhost:8080/",
     "height": 143
    },
    "id": "CoKDnx_y2JYE",
    "outputId": "d3ae66b7-30c3-4876-e0b8-63712bd32c59"
   },
   "outputs": [
    {
     "data": {
      "text/html": [
       "<div>\n",
       "<style scoped>\n",
       "    .dataframe tbody tr th:only-of-type {\n",
       "        vertical-align: middle;\n",
       "    }\n",
       "\n",
       "    .dataframe tbody tr th {\n",
       "        vertical-align: top;\n",
       "    }\n",
       "\n",
       "    .dataframe thead th {\n",
       "        text-align: right;\n",
       "    }\n",
       "</style>\n",
       "<table border=\"1\" class=\"dataframe\">\n",
       "  <thead>\n",
       "    <tr style=\"text-align: right;\">\n",
       "      <th></th>\n",
       "      <th>count</th>\n",
       "      <th>mean</th>\n",
       "      <th>std</th>\n",
       "      <th>min</th>\n",
       "      <th>25%</th>\n",
       "      <th>50%</th>\n",
       "      <th>75%</th>\n",
       "      <th>max</th>\n",
       "    </tr>\n",
       "  </thead>\n",
       "  <tbody>\n",
       "    <tr>\n",
       "      <th>Quantity</th>\n",
       "      <td>397885.0</td>\n",
       "      <td>11.830770</td>\n",
       "      <td>25.523052</td>\n",
       "      <td>1.000</td>\n",
       "      <td>2.00</td>\n",
       "      <td>6.00</td>\n",
       "      <td>12.00</td>\n",
       "      <td>298.50</td>\n",
       "    </tr>\n",
       "    <tr>\n",
       "      <th>Price</th>\n",
       "      <td>397885.0</td>\n",
       "      <td>2.893492</td>\n",
       "      <td>3.227175</td>\n",
       "      <td>0.001</td>\n",
       "      <td>1.25</td>\n",
       "      <td>1.95</td>\n",
       "      <td>3.75</td>\n",
       "      <td>37.06</td>\n",
       "    </tr>\n",
       "    <tr>\n",
       "      <th>Customer ID</th>\n",
       "      <td>397885.0</td>\n",
       "      <td>15294.416882</td>\n",
       "      <td>1713.144421</td>\n",
       "      <td>12346.000</td>\n",
       "      <td>13969.00</td>\n",
       "      <td>15159.00</td>\n",
       "      <td>16795.00</td>\n",
       "      <td>18287.00</td>\n",
       "    </tr>\n",
       "  </tbody>\n",
       "</table>\n",
       "</div>"
      ],
      "text/plain": [
       "                count          mean          std        min       25%       50%       75%       max\n",
       "Quantity     397885.0     11.830770    25.523052      1.000      2.00      6.00     12.00    298.50\n",
       "Price        397885.0      2.893492     3.227175      0.001      1.25      1.95      3.75     37.06\n",
       "Customer ID  397885.0  15294.416882  1713.144421  12346.000  13969.00  15159.00  16795.00  18287.00"
      ]
     },
     "execution_count": 7,
     "metadata": {},
     "output_type": "execute_result"
    }
   ],
   "source": [
    "df = data_prep(df)\n",
    "df.describe().T"
   ]
  },
  {
   "cell_type": "markdown",
   "metadata": {
    "id": "HoB-EZyP3UV8"
   },
   "source": [
    "## Preparing ARL Data Structure (Invoice-Product Matrix)\n",
    "\n",
    "Burada amacımız satırlarda işlemler(faturalar-trasaction-sepet vs...) ve sutünlerde  ürünlerin olup olmama durumunu 0 ve 1 ile belirtiyoruz."
   ]
  },
  {
   "cell_type": "code",
   "execution_count": 8,
   "metadata": {
    "colab": {
     "base_uri": "https://localhost:8080/",
     "height": 206
    },
    "id": "yv0lmzBsfpXU",
    "outputId": "099ab37e-9369-4894-dfb8-8b19079ba8cd"
   },
   "outputs": [
    {
     "data": {
      "text/html": [
       "<div>\n",
       "<style scoped>\n",
       "    .dataframe tbody tr th:only-of-type {\n",
       "        vertical-align: middle;\n",
       "    }\n",
       "\n",
       "    .dataframe tbody tr th {\n",
       "        vertical-align: top;\n",
       "    }\n",
       "\n",
       "    .dataframe thead th {\n",
       "        text-align: right;\n",
       "    }\n",
       "</style>\n",
       "<table border=\"1\" class=\"dataframe\">\n",
       "  <thead>\n",
       "    <tr style=\"text-align: right;\">\n",
       "      <th></th>\n",
       "      <th>Invoice</th>\n",
       "      <th>StockCode</th>\n",
       "      <th>Description</th>\n",
       "      <th>Quantity</th>\n",
       "      <th>InvoiceDate</th>\n",
       "      <th>Price</th>\n",
       "      <th>Customer ID</th>\n",
       "      <th>Country</th>\n",
       "    </tr>\n",
       "  </thead>\n",
       "  <tbody>\n",
       "    <tr>\n",
       "      <th>26</th>\n",
       "      <td>536370</td>\n",
       "      <td>22728</td>\n",
       "      <td>ALARM CLOCK BAKELIKE PINK</td>\n",
       "      <td>24.0</td>\n",
       "      <td>2010-12-01 08:45:00</td>\n",
       "      <td>3.75</td>\n",
       "      <td>12583.0</td>\n",
       "      <td>France</td>\n",
       "    </tr>\n",
       "    <tr>\n",
       "      <th>27</th>\n",
       "      <td>536370</td>\n",
       "      <td>22727</td>\n",
       "      <td>ALARM CLOCK BAKELIKE RED</td>\n",
       "      <td>24.0</td>\n",
       "      <td>2010-12-01 08:45:00</td>\n",
       "      <td>3.75</td>\n",
       "      <td>12583.0</td>\n",
       "      <td>France</td>\n",
       "    </tr>\n",
       "    <tr>\n",
       "      <th>28</th>\n",
       "      <td>536370</td>\n",
       "      <td>22726</td>\n",
       "      <td>ALARM CLOCK BAKELIKE GREEN</td>\n",
       "      <td>12.0</td>\n",
       "      <td>2010-12-01 08:45:00</td>\n",
       "      <td>3.75</td>\n",
       "      <td>12583.0</td>\n",
       "      <td>France</td>\n",
       "    </tr>\n",
       "    <tr>\n",
       "      <th>29</th>\n",
       "      <td>536370</td>\n",
       "      <td>21724</td>\n",
       "      <td>PANDA AND BUNNIES STICKER SHEET</td>\n",
       "      <td>12.0</td>\n",
       "      <td>2010-12-01 08:45:00</td>\n",
       "      <td>0.85</td>\n",
       "      <td>12583.0</td>\n",
       "      <td>France</td>\n",
       "    </tr>\n",
       "    <tr>\n",
       "      <th>30</th>\n",
       "      <td>536370</td>\n",
       "      <td>21883</td>\n",
       "      <td>STARS GIFT TAPE</td>\n",
       "      <td>24.0</td>\n",
       "      <td>2010-12-01 08:45:00</td>\n",
       "      <td>0.65</td>\n",
       "      <td>12583.0</td>\n",
       "      <td>France</td>\n",
       "    </tr>\n",
       "  </tbody>\n",
       "</table>\n",
       "</div>"
      ],
      "text/plain": [
       "   Invoice StockCode                      Description  Quantity         InvoiceDate  Price  Customer ID Country\n",
       "26  536370     22728        ALARM CLOCK BAKELIKE PINK      24.0 2010-12-01 08:45:00   3.75      12583.0  France\n",
       "27  536370     22727        ALARM CLOCK BAKELIKE RED       24.0 2010-12-01 08:45:00   3.75      12583.0  France\n",
       "28  536370     22726       ALARM CLOCK BAKELIKE GREEN      12.0 2010-12-01 08:45:00   3.75      12583.0  France\n",
       "29  536370     21724  PANDA AND BUNNIES STICKER SHEET      12.0 2010-12-01 08:45:00   0.85      12583.0  France\n",
       "30  536370     21883                 STARS GIFT TAPE       24.0 2010-12-01 08:45:00   0.65      12583.0  France"
      ]
     },
     "execution_count": 8,
     "metadata": {},
     "output_type": "execute_result"
    }
   ],
   "source": [
    "df_fr = df[df[\"Country\"]==\"France\"] # Burada fransa ülkesinin birliktelik kurallarını üreteceğiz.\n",
    "df_fr.head()"
   ]
  },
  {
   "cell_type": "markdown",
   "metadata": {
    "id": "ARQ9Zugkf-bT"
   },
   "source": [
    "Örnek olarak şöyle bir sernaryo düşünün: isveç pazarına firma olarak giriş yapacaksınız ancak sizin daha önce isveç müşterileriniz yok ve onlara ne önereceğinizi bilmiyorsunuz. Ancak isveçe en yakın ülke davranışı diyelim ki fransa olsun o zaman fransa ülkesinin birliktelik kurallarını çıkartacaksınız ve fransadaki müşterilerinizin aldıklarını belli bir işlemler ile isveçteki müşterilerinize önermiş olacaksınız."
   ]
  },
  {
   "cell_type": "code",
   "execution_count": 9,
   "metadata": {
    "colab": {
     "base_uri": "https://localhost:8080/",
     "height": 237
    },
    "id": "wkfu-d1agzW0",
    "outputId": "75cbb37e-ffe1-43d5-da16-13b47d0a2103"
   },
   "outputs": [
    {
     "data": {
      "text/html": [
       "<div>\n",
       "<style scoped>\n",
       "    .dataframe tbody tr th:only-of-type {\n",
       "        vertical-align: middle;\n",
       "    }\n",
       "\n",
       "    .dataframe tbody tr th {\n",
       "        vertical-align: top;\n",
       "    }\n",
       "\n",
       "    .dataframe thead th {\n",
       "        text-align: right;\n",
       "    }\n",
       "</style>\n",
       "<table border=\"1\" class=\"dataframe\">\n",
       "  <thead>\n",
       "    <tr style=\"text-align: right;\">\n",
       "      <th></th>\n",
       "      <th></th>\n",
       "      <th>Quantity</th>\n",
       "    </tr>\n",
       "    <tr>\n",
       "      <th>Invoice</th>\n",
       "      <th>Description</th>\n",
       "      <th></th>\n",
       "    </tr>\n",
       "  </thead>\n",
       "  <tbody>\n",
       "    <tr>\n",
       "      <th rowspan=\"5\" valign=\"top\">536370</th>\n",
       "      <th>SET 2 TEA TOWELS I LOVE LONDON</th>\n",
       "      <td>24.0</td>\n",
       "    </tr>\n",
       "    <tr>\n",
       "      <th>ALARM CLOCK BAKELIKE GREEN</th>\n",
       "      <td>12.0</td>\n",
       "    </tr>\n",
       "    <tr>\n",
       "      <th>ALARM CLOCK BAKELIKE PINK</th>\n",
       "      <td>24.0</td>\n",
       "    </tr>\n",
       "    <tr>\n",
       "      <th>ALARM CLOCK BAKELIKE RED</th>\n",
       "      <td>24.0</td>\n",
       "    </tr>\n",
       "    <tr>\n",
       "      <th>CHARLOTTE BAG DOLLY GIRL DESIGN</th>\n",
       "      <td>20.0</td>\n",
       "    </tr>\n",
       "  </tbody>\n",
       "</table>\n",
       "</div>"
      ],
      "text/plain": [
       "                                          Quantity\n",
       "Invoice Description                               \n",
       "536370   SET 2 TEA TOWELS I LOVE LONDON       24.0\n",
       "        ALARM CLOCK BAKELIKE GREEN            12.0\n",
       "        ALARM CLOCK BAKELIKE PINK             24.0\n",
       "        ALARM CLOCK BAKELIKE RED              24.0\n",
       "        CHARLOTTE BAG DOLLY GIRL DESIGN       20.0"
      ]
     },
     "execution_count": 9,
     "metadata": {},
     "output_type": "execute_result"
    }
   ],
   "source": [
    "# Fatura numarasına ve descritiona göre her üründen kaçar tane alınmış onu hesapladık.\n",
    "df_fr.groupby([\"Invoice\", \"Description\"]).agg({\"Quantity\": \"sum\"}).head()"
   ]
  },
  {
   "cell_type": "code",
   "execution_count": 10,
   "metadata": {
    "colab": {
     "base_uri": "https://localhost:8080/",
     "height": 286
    },
    "id": "Jsol03iRgzJ4",
    "outputId": "f0765f2c-6c3d-4d3f-c74f-691e8f4a487f"
   },
   "outputs": [
    {
     "data": {
      "text/html": [
       "<div>\n",
       "<style scoped>\n",
       "    .dataframe tbody tr th:only-of-type {\n",
       "        vertical-align: middle;\n",
       "    }\n",
       "\n",
       "    .dataframe tbody tr th {\n",
       "        vertical-align: top;\n",
       "    }\n",
       "\n",
       "    .dataframe thead tr th {\n",
       "        text-align: left;\n",
       "    }\n",
       "\n",
       "    .dataframe thead tr:last-of-type th {\n",
       "        text-align: right;\n",
       "    }\n",
       "</style>\n",
       "<table border=\"1\" class=\"dataframe\">\n",
       "  <thead>\n",
       "    <tr>\n",
       "      <th></th>\n",
       "      <th colspan=\"5\" halign=\"left\">Quantity</th>\n",
       "    </tr>\n",
       "    <tr>\n",
       "      <th>Description</th>\n",
       "      <th>50'S CHRISTMAS GIFT BAG LARGE</th>\n",
       "      <th>DOLLY GIRL BEAKER</th>\n",
       "      <th>I LOVE LONDON MINI BACKPACK</th>\n",
       "      <th>NINE DRAWER OFFICE TIDY</th>\n",
       "      <th>SET 2 TEA TOWELS I LOVE LONDON</th>\n",
       "    </tr>\n",
       "    <tr>\n",
       "      <th>Invoice</th>\n",
       "      <th></th>\n",
       "      <th></th>\n",
       "      <th></th>\n",
       "      <th></th>\n",
       "      <th></th>\n",
       "    </tr>\n",
       "  </thead>\n",
       "  <tbody>\n",
       "    <tr>\n",
       "      <th>536370</th>\n",
       "      <td>NaN</td>\n",
       "      <td>NaN</td>\n",
       "      <td>NaN</td>\n",
       "      <td>NaN</td>\n",
       "      <td>24.0</td>\n",
       "    </tr>\n",
       "    <tr>\n",
       "      <th>536852</th>\n",
       "      <td>NaN</td>\n",
       "      <td>NaN</td>\n",
       "      <td>NaN</td>\n",
       "      <td>NaN</td>\n",
       "      <td>NaN</td>\n",
       "    </tr>\n",
       "    <tr>\n",
       "      <th>536974</th>\n",
       "      <td>NaN</td>\n",
       "      <td>NaN</td>\n",
       "      <td>NaN</td>\n",
       "      <td>NaN</td>\n",
       "      <td>NaN</td>\n",
       "    </tr>\n",
       "    <tr>\n",
       "      <th>537065</th>\n",
       "      <td>NaN</td>\n",
       "      <td>NaN</td>\n",
       "      <td>NaN</td>\n",
       "      <td>NaN</td>\n",
       "      <td>NaN</td>\n",
       "    </tr>\n",
       "    <tr>\n",
       "      <th>537463</th>\n",
       "      <td>NaN</td>\n",
       "      <td>NaN</td>\n",
       "      <td>NaN</td>\n",
       "      <td>NaN</td>\n",
       "      <td>NaN</td>\n",
       "    </tr>\n",
       "  </tbody>\n",
       "</table>\n",
       "</div>"
      ],
      "text/plain": [
       "                                  Quantity                                                                                                          \n",
       "Description  50'S CHRISTMAS GIFT BAG LARGE  DOLLY GIRL BEAKER  I LOVE LONDON MINI BACKPACK  NINE DRAWER OFFICE TIDY  SET 2 TEA TOWELS I LOVE LONDON \n",
       "Invoice                                                                                                                                             \n",
       "536370                                 NaN                NaN                          NaN                      NaN                             24.0\n",
       "536852                                 NaN                NaN                          NaN                      NaN                              NaN\n",
       "536974                                 NaN                NaN                          NaN                      NaN                              NaN\n",
       "537065                                 NaN                NaN                          NaN                      NaN                              NaN\n",
       "537463                                 NaN                NaN                          NaN                      NaN                              NaN"
      ]
     },
     "execution_count": 10,
     "metadata": {},
     "output_type": "execute_result"
    }
   ],
   "source": [
    "# Ancak bizim isteğimiz her bir fatura için sutünlarda hangi üründen kaçar tane alınmasını yazsın\n",
    "df_fr.groupby([\"Invoice\", \"Description\"]).agg({\"Quantity\": \"sum\"}).unstack().iloc[0:5, 0:5]"
   ]
  },
  {
   "cell_type": "code",
   "execution_count": 11,
   "metadata": {
    "colab": {
     "base_uri": "https://localhost:8080/",
     "height": 286
    },
    "id": "0zAnTs-qheJg",
    "outputId": "73a72e9c-0c1d-4315-a057-f3d441b7f478"
   },
   "outputs": [
    {
     "data": {
      "text/html": [
       "<div>\n",
       "<style scoped>\n",
       "    .dataframe tbody tr th:only-of-type {\n",
       "        vertical-align: middle;\n",
       "    }\n",
       "\n",
       "    .dataframe tbody tr th {\n",
       "        vertical-align: top;\n",
       "    }\n",
       "\n",
       "    .dataframe thead tr th {\n",
       "        text-align: left;\n",
       "    }\n",
       "\n",
       "    .dataframe thead tr:last-of-type th {\n",
       "        text-align: right;\n",
       "    }\n",
       "</style>\n",
       "<table border=\"1\" class=\"dataframe\">\n",
       "  <thead>\n",
       "    <tr>\n",
       "      <th></th>\n",
       "      <th colspan=\"5\" halign=\"left\">Quantity</th>\n",
       "    </tr>\n",
       "    <tr>\n",
       "      <th>Description</th>\n",
       "      <th>50'S CHRISTMAS GIFT BAG LARGE</th>\n",
       "      <th>DOLLY GIRL BEAKER</th>\n",
       "      <th>I LOVE LONDON MINI BACKPACK</th>\n",
       "      <th>NINE DRAWER OFFICE TIDY</th>\n",
       "      <th>SET 2 TEA TOWELS I LOVE LONDON</th>\n",
       "    </tr>\n",
       "    <tr>\n",
       "      <th>Invoice</th>\n",
       "      <th></th>\n",
       "      <th></th>\n",
       "      <th></th>\n",
       "      <th></th>\n",
       "      <th></th>\n",
       "    </tr>\n",
       "  </thead>\n",
       "  <tbody>\n",
       "    <tr>\n",
       "      <th>536370</th>\n",
       "      <td>0.0</td>\n",
       "      <td>0.0</td>\n",
       "      <td>0.0</td>\n",
       "      <td>0.0</td>\n",
       "      <td>24.0</td>\n",
       "    </tr>\n",
       "    <tr>\n",
       "      <th>536852</th>\n",
       "      <td>0.0</td>\n",
       "      <td>0.0</td>\n",
       "      <td>0.0</td>\n",
       "      <td>0.0</td>\n",
       "      <td>0.0</td>\n",
       "    </tr>\n",
       "    <tr>\n",
       "      <th>536974</th>\n",
       "      <td>0.0</td>\n",
       "      <td>0.0</td>\n",
       "      <td>0.0</td>\n",
       "      <td>0.0</td>\n",
       "      <td>0.0</td>\n",
       "    </tr>\n",
       "    <tr>\n",
       "      <th>537065</th>\n",
       "      <td>0.0</td>\n",
       "      <td>0.0</td>\n",
       "      <td>0.0</td>\n",
       "      <td>0.0</td>\n",
       "      <td>0.0</td>\n",
       "    </tr>\n",
       "    <tr>\n",
       "      <th>537463</th>\n",
       "      <td>0.0</td>\n",
       "      <td>0.0</td>\n",
       "      <td>0.0</td>\n",
       "      <td>0.0</td>\n",
       "      <td>0.0</td>\n",
       "    </tr>\n",
       "  </tbody>\n",
       "</table>\n",
       "</div>"
      ],
      "text/plain": [
       "                                  Quantity                                                                                                          \n",
       "Description  50'S CHRISTMAS GIFT BAG LARGE  DOLLY GIRL BEAKER  I LOVE LONDON MINI BACKPACK  NINE DRAWER OFFICE TIDY  SET 2 TEA TOWELS I LOVE LONDON \n",
       "Invoice                                                                                                                                             \n",
       "536370                                 0.0                0.0                          0.0                      0.0                             24.0\n",
       "536852                                 0.0                0.0                          0.0                      0.0                              0.0\n",
       "536974                                 0.0                0.0                          0.0                      0.0                              0.0\n",
       "537065                                 0.0                0.0                          0.0                      0.0                              0.0\n",
       "537463                                 0.0                0.0                          0.0                      0.0                              0.0"
      ]
     },
     "execution_count": 11,
     "metadata": {},
     "output_type": "execute_result"
    }
   ],
   "source": [
    "# Şimdi burada isteğimiz ürünün olduğu yere 1 olmadığı yere 0 yazsın ve NaN kısımlardan kurtulalım\n",
    "df_fr.groupby([\"Invoice\", \"Description\"]).agg({\"Quantity\": \"sum\"}).unstack().fillna(0).iloc[0:5, 0:5]\n"
   ]
  },
  {
   "cell_type": "code",
   "execution_count": 12,
   "metadata": {
    "colab": {
     "base_uri": "https://localhost:8080/",
     "height": 286
    },
    "id": "9OIJGtPsheGl",
    "outputId": "175d3d9d-fd76-4c02-c0b2-a862b04c2001"
   },
   "outputs": [
    {
     "data": {
      "text/html": [
       "<div>\n",
       "<style scoped>\n",
       "    .dataframe tbody tr th:only-of-type {\n",
       "        vertical-align: middle;\n",
       "    }\n",
       "\n",
       "    .dataframe tbody tr th {\n",
       "        vertical-align: top;\n",
       "    }\n",
       "\n",
       "    .dataframe thead tr th {\n",
       "        text-align: left;\n",
       "    }\n",
       "\n",
       "    .dataframe thead tr:last-of-type th {\n",
       "        text-align: right;\n",
       "    }\n",
       "</style>\n",
       "<table border=\"1\" class=\"dataframe\">\n",
       "  <thead>\n",
       "    <tr>\n",
       "      <th></th>\n",
       "      <th colspan=\"5\" halign=\"left\">Quantity</th>\n",
       "    </tr>\n",
       "    <tr>\n",
       "      <th>Description</th>\n",
       "      <th>50'S CHRISTMAS GIFT BAG LARGE</th>\n",
       "      <th>DOLLY GIRL BEAKER</th>\n",
       "      <th>I LOVE LONDON MINI BACKPACK</th>\n",
       "      <th>NINE DRAWER OFFICE TIDY</th>\n",
       "      <th>SET 2 TEA TOWELS I LOVE LONDON</th>\n",
       "    </tr>\n",
       "    <tr>\n",
       "      <th>Invoice</th>\n",
       "      <th></th>\n",
       "      <th></th>\n",
       "      <th></th>\n",
       "      <th></th>\n",
       "      <th></th>\n",
       "    </tr>\n",
       "  </thead>\n",
       "  <tbody>\n",
       "    <tr>\n",
       "      <th>536370</th>\n",
       "      <td>0</td>\n",
       "      <td>0</td>\n",
       "      <td>0</td>\n",
       "      <td>0</td>\n",
       "      <td>1</td>\n",
       "    </tr>\n",
       "    <tr>\n",
       "      <th>536852</th>\n",
       "      <td>0</td>\n",
       "      <td>0</td>\n",
       "      <td>0</td>\n",
       "      <td>0</td>\n",
       "      <td>0</td>\n",
       "    </tr>\n",
       "    <tr>\n",
       "      <th>536974</th>\n",
       "      <td>0</td>\n",
       "      <td>0</td>\n",
       "      <td>0</td>\n",
       "      <td>0</td>\n",
       "      <td>0</td>\n",
       "    </tr>\n",
       "    <tr>\n",
       "      <th>537065</th>\n",
       "      <td>0</td>\n",
       "      <td>0</td>\n",
       "      <td>0</td>\n",
       "      <td>0</td>\n",
       "      <td>0</td>\n",
       "    </tr>\n",
       "    <tr>\n",
       "      <th>537463</th>\n",
       "      <td>0</td>\n",
       "      <td>0</td>\n",
       "      <td>0</td>\n",
       "      <td>0</td>\n",
       "      <td>0</td>\n",
       "    </tr>\n",
       "  </tbody>\n",
       "</table>\n",
       "</div>"
      ],
      "text/plain": [
       "                                  Quantity                                                                                                          \n",
       "Description  50'S CHRISTMAS GIFT BAG LARGE  DOLLY GIRL BEAKER  I LOVE LONDON MINI BACKPACK  NINE DRAWER OFFICE TIDY  SET 2 TEA TOWELS I LOVE LONDON \n",
       "Invoice                                                                                                                                             \n",
       "536370                                   0                  0                            0                        0                                1\n",
       "536852                                   0                  0                            0                        0                                0\n",
       "536974                                   0                  0                            0                        0                                0\n",
       "537065                                   0                  0                            0                        0                                0\n",
       "537463                                   0                  0                            0                        0                                0"
      ]
     },
     "execution_count": 12,
     "metadata": {},
     "output_type": "execute_result"
    }
   ],
   "source": [
    "# Şimdi ise amacımıza tam olarak ulaştık. 0 ve 1 ile matris oluşturduk\n",
    "df_fr.groupby([\"Invoice\", \"Description\"]).agg({\"Quantity\": \"sum\"}).unstack().fillna(0). \\\n",
    "applymap(lambda x: 1 if x>0 else 0).iloc[0:5, 0:5]\n"
   ]
  },
  {
   "cell_type": "code",
   "execution_count": 13,
   "metadata": {
    "colab": {
     "base_uri": "https://localhost:8080/",
     "height": 269
    },
    "id": "xILfwnfLheD7",
    "outputId": "a000b6b7-8624-4b61-bc03-9d1cadc6e890"
   },
   "outputs": [
    {
     "data": {
      "text/html": [
       "<div>\n",
       "<style scoped>\n",
       "    .dataframe tbody tr th:only-of-type {\n",
       "        vertical-align: middle;\n",
       "    }\n",
       "\n",
       "    .dataframe tbody tr th {\n",
       "        vertical-align: top;\n",
       "    }\n",
       "\n",
       "    .dataframe thead tr th {\n",
       "        text-align: left;\n",
       "    }\n",
       "\n",
       "    .dataframe thead tr:last-of-type th {\n",
       "        text-align: right;\n",
       "    }\n",
       "</style>\n",
       "<table border=\"1\" class=\"dataframe\">\n",
       "  <thead>\n",
       "    <tr>\n",
       "      <th></th>\n",
       "      <th colspan=\"5\" halign=\"left\">Quantity</th>\n",
       "    </tr>\n",
       "    <tr>\n",
       "      <th>StockCode</th>\n",
       "      <th>10002</th>\n",
       "      <th>10120</th>\n",
       "      <th>10125</th>\n",
       "      <th>10135</th>\n",
       "      <th>11001</th>\n",
       "    </tr>\n",
       "    <tr>\n",
       "      <th>Invoice</th>\n",
       "      <th></th>\n",
       "      <th></th>\n",
       "      <th></th>\n",
       "      <th></th>\n",
       "      <th></th>\n",
       "    </tr>\n",
       "  </thead>\n",
       "  <tbody>\n",
       "    <tr>\n",
       "      <th>536370</th>\n",
       "      <td>1</td>\n",
       "      <td>0</td>\n",
       "      <td>0</td>\n",
       "      <td>0</td>\n",
       "      <td>0</td>\n",
       "    </tr>\n",
       "    <tr>\n",
       "      <th>536852</th>\n",
       "      <td>0</td>\n",
       "      <td>0</td>\n",
       "      <td>0</td>\n",
       "      <td>0</td>\n",
       "      <td>0</td>\n",
       "    </tr>\n",
       "    <tr>\n",
       "      <th>536974</th>\n",
       "      <td>0</td>\n",
       "      <td>0</td>\n",
       "      <td>0</td>\n",
       "      <td>0</td>\n",
       "      <td>0</td>\n",
       "    </tr>\n",
       "    <tr>\n",
       "      <th>537065</th>\n",
       "      <td>0</td>\n",
       "      <td>0</td>\n",
       "      <td>0</td>\n",
       "      <td>0</td>\n",
       "      <td>0</td>\n",
       "    </tr>\n",
       "    <tr>\n",
       "      <th>537463</th>\n",
       "      <td>0</td>\n",
       "      <td>0</td>\n",
       "      <td>0</td>\n",
       "      <td>0</td>\n",
       "      <td>0</td>\n",
       "    </tr>\n",
       "  </tbody>\n",
       "</table>\n",
       "</div>"
      ],
      "text/plain": [
       "          Quantity                        \n",
       "StockCode    10002 10120 10125 10135 11001\n",
       "Invoice                                   \n",
       "536370           1     0     0     0     0\n",
       "536852           0     0     0     0     0\n",
       "536974           0     0     0     0     0\n",
       "537065           0     0     0     0     0\n",
       "537463           0     0     0     0     0"
      ]
     },
     "execution_count": 13,
     "metadata": {},
     "output_type": "execute_result"
    }
   ],
   "source": [
    "# Description'lar çok kafa karıştırıcı olduğu için StockeCode'ları yansıtmak daha iyidir.\n",
    "df_fr.groupby([\"Invoice\", \"StockCode\"]).agg({\"Quantity\": \"sum\"}).unstack().fillna(0). \\\n",
    "applymap(lambda x: 1 if x>0 else 0).iloc[0:5, 0:5]"
   ]
  },
  {
   "cell_type": "markdown",
   "metadata": {
    "id": "on_4xH0nvlJf"
   },
   "source": [
    "Şimdi yukarıda yaptıklarımızı fonksiyon ile yazalım"
   ]
  },
  {
   "cell_type": "code",
   "execution_count": 14,
   "metadata": {
    "id": "m5A5YmJS2RmF"
   },
   "outputs": [],
   "source": [
    "def create_invoice_product_df(dataframe, id=False):\n",
    "    if id:\n",
    "        return dataframe.groupby(['Invoice', \"StockCode\"])['Quantity'].sum().unstack().fillna(0). \\\n",
    "            applymap(lambda x: 1 if x > 0 else 0)\n",
    "    else:\n",
    "        return dataframe.groupby(['Invoice', 'Description'])['Quantity'].sum().unstack().fillna(0). \\\n",
    "            applymap(lambda x: 1 if x > 0 else 0)"
   ]
  },
  {
   "cell_type": "code",
   "execution_count": 15,
   "metadata": {
    "colab": {
     "base_uri": "https://localhost:8080/",
     "height": 257
    },
    "id": "IIRSdR2ZIXy9",
    "outputId": "4c02dfde-d6eb-4cb1-bd0d-f5f8e05ff24c"
   },
   "outputs": [
    {
     "data": {
      "text/html": [
       "<div>\n",
       "<style scoped>\n",
       "    .dataframe tbody tr th:only-of-type {\n",
       "        vertical-align: middle;\n",
       "    }\n",
       "\n",
       "    .dataframe tbody tr th {\n",
       "        vertical-align: top;\n",
       "    }\n",
       "\n",
       "    .dataframe thead th {\n",
       "        text-align: right;\n",
       "    }\n",
       "</style>\n",
       "<table border=\"1\" class=\"dataframe\">\n",
       "  <thead>\n",
       "    <tr style=\"text-align: right;\">\n",
       "      <th>StockCode</th>\n",
       "      <th>10002</th>\n",
       "      <th>10120</th>\n",
       "      <th>10125</th>\n",
       "      <th>10135</th>\n",
       "      <th>11001</th>\n",
       "      <th>15036</th>\n",
       "      <th>15039</th>\n",
       "      <th>16012</th>\n",
       "      <th>16048</th>\n",
       "      <th>16218</th>\n",
       "      <th>16219</th>\n",
       "      <th>16225</th>\n",
       "      <th>16236</th>\n",
       "      <th>16237</th>\n",
       "      <th>16238</th>\n",
       "      <th>17174</th>\n",
       "      <th>20615</th>\n",
       "      <th>20617</th>\n",
       "      <th>20658</th>\n",
       "      <th>20665</th>\n",
       "    </tr>\n",
       "    <tr>\n",
       "      <th>Invoice</th>\n",
       "      <th></th>\n",
       "      <th></th>\n",
       "      <th></th>\n",
       "      <th></th>\n",
       "      <th></th>\n",
       "      <th></th>\n",
       "      <th></th>\n",
       "      <th></th>\n",
       "      <th></th>\n",
       "      <th></th>\n",
       "      <th></th>\n",
       "      <th></th>\n",
       "      <th></th>\n",
       "      <th></th>\n",
       "      <th></th>\n",
       "      <th></th>\n",
       "      <th></th>\n",
       "      <th></th>\n",
       "      <th></th>\n",
       "      <th></th>\n",
       "    </tr>\n",
       "  </thead>\n",
       "  <tbody>\n",
       "    <tr>\n",
       "      <th>536370</th>\n",
       "      <td>1</td>\n",
       "      <td>0</td>\n",
       "      <td>0</td>\n",
       "      <td>0</td>\n",
       "      <td>0</td>\n",
       "      <td>0</td>\n",
       "      <td>0</td>\n",
       "      <td>0</td>\n",
       "      <td>0</td>\n",
       "      <td>0</td>\n",
       "      <td>0</td>\n",
       "      <td>0</td>\n",
       "      <td>0</td>\n",
       "      <td>0</td>\n",
       "      <td>0</td>\n",
       "      <td>0</td>\n",
       "      <td>0</td>\n",
       "      <td>0</td>\n",
       "      <td>0</td>\n",
       "      <td>0</td>\n",
       "    </tr>\n",
       "    <tr>\n",
       "      <th>536852</th>\n",
       "      <td>0</td>\n",
       "      <td>0</td>\n",
       "      <td>0</td>\n",
       "      <td>0</td>\n",
       "      <td>0</td>\n",
       "      <td>0</td>\n",
       "      <td>0</td>\n",
       "      <td>0</td>\n",
       "      <td>0</td>\n",
       "      <td>0</td>\n",
       "      <td>0</td>\n",
       "      <td>0</td>\n",
       "      <td>0</td>\n",
       "      <td>0</td>\n",
       "      <td>0</td>\n",
       "      <td>0</td>\n",
       "      <td>0</td>\n",
       "      <td>0</td>\n",
       "      <td>0</td>\n",
       "      <td>0</td>\n",
       "    </tr>\n",
       "    <tr>\n",
       "      <th>536974</th>\n",
       "      <td>0</td>\n",
       "      <td>0</td>\n",
       "      <td>0</td>\n",
       "      <td>0</td>\n",
       "      <td>0</td>\n",
       "      <td>0</td>\n",
       "      <td>0</td>\n",
       "      <td>0</td>\n",
       "      <td>0</td>\n",
       "      <td>0</td>\n",
       "      <td>0</td>\n",
       "      <td>0</td>\n",
       "      <td>0</td>\n",
       "      <td>0</td>\n",
       "      <td>0</td>\n",
       "      <td>0</td>\n",
       "      <td>0</td>\n",
       "      <td>0</td>\n",
       "      <td>0</td>\n",
       "      <td>0</td>\n",
       "    </tr>\n",
       "    <tr>\n",
       "      <th>537065</th>\n",
       "      <td>0</td>\n",
       "      <td>0</td>\n",
       "      <td>0</td>\n",
       "      <td>0</td>\n",
       "      <td>0</td>\n",
       "      <td>0</td>\n",
       "      <td>0</td>\n",
       "      <td>0</td>\n",
       "      <td>0</td>\n",
       "      <td>0</td>\n",
       "      <td>0</td>\n",
       "      <td>0</td>\n",
       "      <td>0</td>\n",
       "      <td>0</td>\n",
       "      <td>1</td>\n",
       "      <td>0</td>\n",
       "      <td>0</td>\n",
       "      <td>0</td>\n",
       "      <td>0</td>\n",
       "      <td>1</td>\n",
       "    </tr>\n",
       "    <tr>\n",
       "      <th>537463</th>\n",
       "      <td>0</td>\n",
       "      <td>0</td>\n",
       "      <td>0</td>\n",
       "      <td>0</td>\n",
       "      <td>0</td>\n",
       "      <td>0</td>\n",
       "      <td>0</td>\n",
       "      <td>0</td>\n",
       "      <td>0</td>\n",
       "      <td>0</td>\n",
       "      <td>0</td>\n",
       "      <td>0</td>\n",
       "      <td>0</td>\n",
       "      <td>0</td>\n",
       "      <td>0</td>\n",
       "      <td>0</td>\n",
       "      <td>0</td>\n",
       "      <td>0</td>\n",
       "      <td>0</td>\n",
       "      <td>0</td>\n",
       "    </tr>\n",
       "  </tbody>\n",
       "</table>\n",
       "</div>"
      ],
      "text/plain": [
       "StockCode  10002  10120  10125  10135  11001  15036  15039  16012  16048  16218  16219  16225  16236  16237  16238  17174  20615  20617  20658  20665\n",
       "Invoice                                                                                                                                              \n",
       "536370         1      0      0      0      0      0      0      0      0      0      0      0      0      0      0      0      0      0      0      0\n",
       "536852         0      0      0      0      0      0      0      0      0      0      0      0      0      0      0      0      0      0      0      0\n",
       "536974         0      0      0      0      0      0      0      0      0      0      0      0      0      0      0      0      0      0      0      0\n",
       "537065         0      0      0      0      0      0      0      0      0      0      0      0      0      0      1      0      0      0      0      1\n",
       "537463         0      0      0      0      0      0      0      0      0      0      0      0      0      0      0      0      0      0      0      0"
      ]
     },
     "execution_count": 15,
     "metadata": {},
     "output_type": "execute_result"
    }
   ],
   "source": [
    "df_fr = df[df[\"Country\"]==\"France\"]\n",
    "fr_inv_pro_df = create_invoice_product_df(df_fr,id=True)\n",
    "fr_inv_pro_df.iloc[0:5,0:20]"
   ]
  },
  {
   "cell_type": "markdown",
   "metadata": {
    "id": "MIxOJC5kwEM6"
   },
   "source": [
    "Şimdi diyelim ki StockeCode ile mtrisi oluşturduğunuz ancak ihtiyaca göre hangi kodun hangi ürün olduğunu öğrenmek isterseniz aşağıdaki gibi yapabiliriz"
   ]
  },
  {
   "cell_type": "code",
   "execution_count": 16,
   "metadata": {
    "colab": {
     "base_uri": "https://localhost:8080/",
     "height": 80
    },
    "id": "s30nU-DkwTSc",
    "outputId": "68de47d2-7ed3-4cc6-a7cd-d297e5b03f13"
   },
   "outputs": [
    {
     "data": {
      "text/html": [
       "<div>\n",
       "<style scoped>\n",
       "    .dataframe tbody tr th:only-of-type {\n",
       "        vertical-align: middle;\n",
       "    }\n",
       "\n",
       "    .dataframe tbody tr th {\n",
       "        vertical-align: top;\n",
       "    }\n",
       "\n",
       "    .dataframe thead th {\n",
       "        text-align: right;\n",
       "    }\n",
       "</style>\n",
       "<table border=\"1\" class=\"dataframe\">\n",
       "  <thead>\n",
       "    <tr style=\"text-align: right;\">\n",
       "      <th></th>\n",
       "      <th>Description</th>\n",
       "    </tr>\n",
       "  </thead>\n",
       "  <tbody>\n",
       "    <tr>\n",
       "      <th>440034</th>\n",
       "      <td>DOGGY RUBBER</td>\n",
       "    </tr>\n",
       "  </tbody>\n",
       "</table>\n",
       "</div>"
      ],
      "text/plain": [
       "         Description\n",
       "440034  DOGGY RUBBER"
      ]
     },
     "execution_count": 16,
     "metadata": {},
     "output_type": "execute_result"
    }
   ],
   "source": [
    "df_fr[df_fr[\"StockCode\"]==10120][[\"Description\"]]"
   ]
  },
  {
   "cell_type": "code",
   "execution_count": 17,
   "metadata": {
    "colab": {
     "base_uri": "https://localhost:8080/"
    },
    "id": "6GAnn6cbwuSK",
    "outputId": "56a3fb82-51cf-4f0c-895a-435b68b5a857"
   },
   "outputs": [
    {
     "data": {
      "text/plain": [
       "['DOGGY RUBBER']"
      ]
     },
     "execution_count": 17,
     "metadata": {},
     "output_type": "execute_result"
    }
   ],
   "source": [
    "df_fr[df_fr[\"StockCode\"]==10120][[\"Description\"]].values[0].tolist()"
   ]
  },
  {
   "cell_type": "code",
   "execution_count": 18,
   "metadata": {
    "id": "STqzKLLlI-TG"
   },
   "outputs": [],
   "source": [
    "# Şimdi fonksiyonlaştıralım süreci\n",
    "def check_id(dataframe, stock_code):\n",
    "  product_name = dataframe[dataframe[\"StockCode\"]==stock_code][[\"Description\"]].values[0].tolist()\n",
    "  print(product_name)"
   ]
  },
  {
   "cell_type": "code",
   "execution_count": 19,
   "metadata": {
    "colab": {
     "base_uri": "https://localhost:8080/"
    },
    "id": "Y8-98bDkJsEt",
    "outputId": "bd36c214-21f7-473a-be9b-9be89947a000"
   },
   "outputs": [
    {
     "name": "stdout",
     "output_type": "stream",
     "text": [
      "['DOGGY RUBBER']\n"
     ]
    }
   ],
   "source": [
    "check_id(df_fr,10120)"
   ]
  },
  {
   "cell_type": "code",
   "execution_count": 20,
   "metadata": {
    "id": "rgQqGyRH0Ehh"
   },
   "outputs": [],
   "source": [
    "# Birliktelik kurallarının çıkarılmasının ilk adımı: Support değerlerinin hesaplanması\n",
    "frequent_itemsets = apriori(fr_inv_pro_df, min_support=0.01, use_colnames=True)"
   ]
  },
  {
   "cell_type": "code",
   "execution_count": 22,
   "metadata": {},
   "outputs": [
    {
     "data": {
      "text/html": [
       "<div>\n",
       "<style scoped>\n",
       "    .dataframe tbody tr th:only-of-type {\n",
       "        vertical-align: middle;\n",
       "    }\n",
       "\n",
       "    .dataframe tbody tr th {\n",
       "        vertical-align: top;\n",
       "    }\n",
       "\n",
       "    .dataframe thead th {\n",
       "        text-align: right;\n",
       "    }\n",
       "</style>\n",
       "<table border=\"1\" class=\"dataframe\">\n",
       "  <thead>\n",
       "    <tr style=\"text-align: right;\">\n",
       "      <th></th>\n",
       "      <th>support</th>\n",
       "      <th>itemsets</th>\n",
       "    </tr>\n",
       "  </thead>\n",
       "  <tbody>\n",
       "    <tr>\n",
       "      <th>0</th>\n",
       "      <td>0.020566</td>\n",
       "      <td>(10002)</td>\n",
       "    </tr>\n",
       "    <tr>\n",
       "      <th>1</th>\n",
       "      <td>0.015424</td>\n",
       "      <td>(10125)</td>\n",
       "    </tr>\n",
       "    <tr>\n",
       "      <th>2</th>\n",
       "      <td>0.010283</td>\n",
       "      <td>(16236)</td>\n",
       "    </tr>\n",
       "    <tr>\n",
       "      <th>3</th>\n",
       "      <td>0.012853</td>\n",
       "      <td>(16237)</td>\n",
       "    </tr>\n",
       "    <tr>\n",
       "      <th>4</th>\n",
       "      <td>0.012853</td>\n",
       "      <td>(16238)</td>\n",
       "    </tr>\n",
       "  </tbody>\n",
       "</table>\n",
       "</div>"
      ],
      "text/plain": [
       "    support itemsets\n",
       "0  0.020566  (10002)\n",
       "1  0.015424  (10125)\n",
       "2  0.010283  (16236)\n",
       "3  0.012853  (16237)\n",
       "4  0.012853  (16238)"
      ]
     },
     "execution_count": 22,
     "metadata": {},
     "output_type": "execute_result"
    }
   ],
   "source": [
    "frequent_itemsets.head()"
   ]
  },
  {
   "cell_type": "code",
   "execution_count": 23,
   "metadata": {
    "id": "G1WWhbja0GT_"
   },
   "outputs": [],
   "source": [
    "# Support değerlerine göre confidence ve lift hesaplamak\n",
    "rules = association_rules(frequent_itemsets, metric=\"support\", min_threshold=0.01)"
   ]
  },
  {
   "cell_type": "code",
   "execution_count": 25,
   "metadata": {},
   "outputs": [
    {
     "data": {
      "text/html": [
       "<div>\n",
       "<style scoped>\n",
       "    .dataframe tbody tr th:only-of-type {\n",
       "        vertical-align: middle;\n",
       "    }\n",
       "\n",
       "    .dataframe tbody tr th {\n",
       "        vertical-align: top;\n",
       "    }\n",
       "\n",
       "    .dataframe thead th {\n",
       "        text-align: right;\n",
       "    }\n",
       "</style>\n",
       "<table border=\"1\" class=\"dataframe\">\n",
       "  <thead>\n",
       "    <tr style=\"text-align: right;\">\n",
       "      <th></th>\n",
       "      <th>antecedents</th>\n",
       "      <th>consequents</th>\n",
       "      <th>antecedent support</th>\n",
       "      <th>consequent support</th>\n",
       "      <th>support</th>\n",
       "      <th>confidence</th>\n",
       "      <th>lift</th>\n",
       "      <th>leverage</th>\n",
       "      <th>conviction</th>\n",
       "      <th>zhangs_metric</th>\n",
       "    </tr>\n",
       "  </thead>\n",
       "  <tbody>\n",
       "    <tr>\n",
       "      <th>0</th>\n",
       "      <td>(10002)</td>\n",
       "      <td>(21791)</td>\n",
       "      <td>0.020566</td>\n",
       "      <td>0.028278</td>\n",
       "      <td>0.010283</td>\n",
       "      <td>0.500000</td>\n",
       "      <td>17.681818</td>\n",
       "      <td>0.009701</td>\n",
       "      <td>1.943445</td>\n",
       "      <td>0.963255</td>\n",
       "    </tr>\n",
       "    <tr>\n",
       "      <th>1</th>\n",
       "      <td>(21791)</td>\n",
       "      <td>(10002)</td>\n",
       "      <td>0.028278</td>\n",
       "      <td>0.020566</td>\n",
       "      <td>0.010283</td>\n",
       "      <td>0.363636</td>\n",
       "      <td>17.681818</td>\n",
       "      <td>0.009701</td>\n",
       "      <td>1.539111</td>\n",
       "      <td>0.970899</td>\n",
       "    </tr>\n",
       "    <tr>\n",
       "      <th>2</th>\n",
       "      <td>(10002)</td>\n",
       "      <td>(21915)</td>\n",
       "      <td>0.020566</td>\n",
       "      <td>0.069409</td>\n",
       "      <td>0.010283</td>\n",
       "      <td>0.500000</td>\n",
       "      <td>7.203704</td>\n",
       "      <td>0.008855</td>\n",
       "      <td>1.861183</td>\n",
       "      <td>0.879265</td>\n",
       "    </tr>\n",
       "    <tr>\n",
       "      <th>3</th>\n",
       "      <td>(21915)</td>\n",
       "      <td>(10002)</td>\n",
       "      <td>0.069409</td>\n",
       "      <td>0.020566</td>\n",
       "      <td>0.010283</td>\n",
       "      <td>0.148148</td>\n",
       "      <td>7.203704</td>\n",
       "      <td>0.008855</td>\n",
       "      <td>1.149771</td>\n",
       "      <td>0.925414</td>\n",
       "    </tr>\n",
       "    <tr>\n",
       "      <th>4</th>\n",
       "      <td>(10002)</td>\n",
       "      <td>(22551)</td>\n",
       "      <td>0.020566</td>\n",
       "      <td>0.136247</td>\n",
       "      <td>0.010283</td>\n",
       "      <td>0.500000</td>\n",
       "      <td>3.669811</td>\n",
       "      <td>0.007481</td>\n",
       "      <td>1.727506</td>\n",
       "      <td>0.742782</td>\n",
       "    </tr>\n",
       "  </tbody>\n",
       "</table>\n",
       "</div>"
      ],
      "text/plain": [
       "  antecedents consequents  antecedent support  consequent support   support  confidence       lift  leverage  conviction  zhangs_metric\n",
       "0     (10002)     (21791)            0.020566            0.028278  0.010283    0.500000  17.681818  0.009701    1.943445       0.963255\n",
       "1     (21791)     (10002)            0.028278            0.020566  0.010283    0.363636  17.681818  0.009701    1.539111       0.970899\n",
       "2     (10002)     (21915)            0.020566            0.069409  0.010283    0.500000   7.203704  0.008855    1.861183       0.879265\n",
       "3     (21915)     (10002)            0.069409            0.020566  0.010283    0.148148   7.203704  0.008855    1.149771       0.925414\n",
       "4     (10002)     (22551)            0.020566            0.136247  0.010283    0.500000   3.669811  0.007481    1.727506       0.742782"
      ]
     },
     "execution_count": 25,
     "metadata": {},
     "output_type": "execute_result"
    }
   ],
   "source": [
    "rules.head()"
   ]
  },
  {
   "cell_type": "markdown",
   "metadata": {},
   "source": [
    "**antecedents**: İlk (Önceki) ürün anlamındadır.\n",
    "\n",
    "**consequents**: İkini ürün anlamındadır.\n",
    "\n",
    "**antecedent support**: İlk ürünün tek başına gözlenme olasılığı anlamındadır.\n",
    "\n",
    "**consequent support**: İkinci ürünün tek başına gözlenme olasılığı anlamındadır.\n",
    "\n",
    "**support**: antecedents ve consequents ürünlerinin birlikte gözlenme olasılığı anlamındadır.\n",
    "\n",
    "**confidence**: X ürün alındığında Y ürünün alınma olasılığı anlamındadır.\n",
    "\n",
    "**lift**: X ürün alındığında Y ürünün alınma olasılığı lift kadar artar.\n",
    "\n",
    "**leverage**: lift değerine benzerdir ancak leverage, support değeri yüksek olanlara öncelik verir ve bundan dolayı ufak yanlılık payı vardır. o yüzden bir çalışmalarda lift değerini kullanmayı tercih ediyoruz çok yanlılık payı çok çok azdır.\n",
    "\n",
    "**conviction**: Y ürünü olmadan X ürünün beklenen frekansıdır yada X ürünü olmadan Y ürünün beklenen frekansıdır.\n",
    "\n",
    "**zhangs_metric**: X ürünün satın alındığında Y ürünün satın alınmama olasılığıdır.\n",
    "\n",
    "Şimdi süreci tek bir fonksiyon ile yazmak"
   ]
  },
  {
   "cell_type": "code",
   "execution_count": 26,
   "metadata": {
    "id": "zffpzXvhJwbC"
   },
   "outputs": [],
   "source": [
    "def create_rules(dataframe, id=True, country=\"France\"):\n",
    "  dataframe = dataframe[dataframe['Country'] == country]\n",
    "  dataframe = create_invoice_product_df(dataframe, id)\n",
    "  frequent_itemsets = apriori(dataframe, min_support=0.01, use_colnames=True)\n",
    "  rules = association_rules(frequent_itemsets, metric=\"support\", min_threshold=0.01)\n",
    "  return rules"
   ]
  },
  {
   "cell_type": "code",
   "execution_count": 27,
   "metadata": {
    "id": "0rPPywJxLwQV"
   },
   "outputs": [],
   "source": [
    "rules = create_rules(df)"
   ]
  },
  {
   "cell_type": "code",
   "execution_count": 28,
   "metadata": {
    "colab": {
     "base_uri": "https://localhost:8080/",
     "height": 206
    },
    "id": "nQwAjWZvMF9O",
    "outputId": "a8f8d5eb-eaae-4716-b2a4-f7257c2f1466"
   },
   "outputs": [
    {
     "data": {
      "text/html": [
       "<div>\n",
       "<style scoped>\n",
       "    .dataframe tbody tr th:only-of-type {\n",
       "        vertical-align: middle;\n",
       "    }\n",
       "\n",
       "    .dataframe tbody tr th {\n",
       "        vertical-align: top;\n",
       "    }\n",
       "\n",
       "    .dataframe thead th {\n",
       "        text-align: right;\n",
       "    }\n",
       "</style>\n",
       "<table border=\"1\" class=\"dataframe\">\n",
       "  <thead>\n",
       "    <tr style=\"text-align: right;\">\n",
       "      <th></th>\n",
       "      <th>antecedents</th>\n",
       "      <th>consequents</th>\n",
       "      <th>antecedent support</th>\n",
       "      <th>consequent support</th>\n",
       "      <th>support</th>\n",
       "      <th>confidence</th>\n",
       "      <th>lift</th>\n",
       "      <th>leverage</th>\n",
       "      <th>conviction</th>\n",
       "      <th>zhangs_metric</th>\n",
       "    </tr>\n",
       "  </thead>\n",
       "  <tbody>\n",
       "    <tr>\n",
       "      <th>23707</th>\n",
       "      <td>(21080, 21094)</td>\n",
       "      <td>(21086)</td>\n",
       "      <td>0.102828</td>\n",
       "      <td>0.138817</td>\n",
       "      <td>0.100257</td>\n",
       "      <td>0.975000</td>\n",
       "      <td>7.023611</td>\n",
       "      <td>0.085983</td>\n",
       "      <td>34.447301</td>\n",
       "      <td>0.955918</td>\n",
       "    </tr>\n",
       "    <tr>\n",
       "      <th>23706</th>\n",
       "      <td>(21080, 21086)</td>\n",
       "      <td>(21094)</td>\n",
       "      <td>0.102828</td>\n",
       "      <td>0.128535</td>\n",
       "      <td>0.100257</td>\n",
       "      <td>0.975000</td>\n",
       "      <td>7.585500</td>\n",
       "      <td>0.087040</td>\n",
       "      <td>34.858612</td>\n",
       "      <td>0.967673</td>\n",
       "    </tr>\n",
       "    <tr>\n",
       "      <th>108821</th>\n",
       "      <td>(21080, 21086, POST)</td>\n",
       "      <td>(21094)</td>\n",
       "      <td>0.084833</td>\n",
       "      <td>0.128535</td>\n",
       "      <td>0.082262</td>\n",
       "      <td>0.969697</td>\n",
       "      <td>7.544242</td>\n",
       "      <td>0.071358</td>\n",
       "      <td>28.758355</td>\n",
       "      <td>0.947858</td>\n",
       "    </tr>\n",
       "    <tr>\n",
       "      <th>108822</th>\n",
       "      <td>(21080, 21094, POST)</td>\n",
       "      <td>(21086)</td>\n",
       "      <td>0.084833</td>\n",
       "      <td>0.138817</td>\n",
       "      <td>0.082262</td>\n",
       "      <td>0.969697</td>\n",
       "      <td>6.985410</td>\n",
       "      <td>0.070486</td>\n",
       "      <td>28.419023</td>\n",
       "      <td>0.936271</td>\n",
       "    </tr>\n",
       "    <tr>\n",
       "      <th>1777</th>\n",
       "      <td>(21094)</td>\n",
       "      <td>(21086)</td>\n",
       "      <td>0.128535</td>\n",
       "      <td>0.138817</td>\n",
       "      <td>0.123393</td>\n",
       "      <td>0.960000</td>\n",
       "      <td>6.915556</td>\n",
       "      <td>0.105550</td>\n",
       "      <td>21.529563</td>\n",
       "      <td>0.981563</td>\n",
       "    </tr>\n",
       "  </tbody>\n",
       "</table>\n",
       "</div>"
      ],
      "text/plain": [
       "                 antecedents consequents  antecedent support  consequent support   support  confidence      lift  leverage  conviction  zhangs_metric\n",
       "23707         (21080, 21094)     (21086)            0.102828            0.138817  0.100257    0.975000  7.023611  0.085983   34.447301       0.955918\n",
       "23706         (21080, 21086)     (21094)            0.102828            0.128535  0.100257    0.975000  7.585500  0.087040   34.858612       0.967673\n",
       "108821  (21080, 21086, POST)     (21094)            0.084833            0.128535  0.082262    0.969697  7.544242  0.071358   28.758355       0.947858\n",
       "108822  (21080, 21094, POST)     (21086)            0.084833            0.138817  0.082262    0.969697  6.985410  0.070486   28.419023       0.936271\n",
       "1777                 (21094)     (21086)            0.128535            0.138817  0.123393    0.960000  6.915556  0.105550   21.529563       0.981563"
      ]
     },
     "execution_count": 28,
     "metadata": {},
     "output_type": "execute_result"
    }
   ],
   "source": [
    "rules[(rules[\"support\"]>0.05) & (rules[\"confidence\"]>0.1) & (rules[\"lift\"]>5)].sort_values(\"confidence\",ascending=False).head()"
   ]
  },
  {
   "cell_type": "markdown",
   "metadata": {},
   "source": [
    "Şimdi yukarıda gördüğünüz üzere 21080 kodlu ve 21094 kodulu ürün alındığında 21086 kodlu ürünün satın alınma olasılığı (confidence) 97% artıyor. ancak bu ürün kodlarının isimlerini öğrenmek için daha önce yazdığımız check_id metodu ile aşağıdaki gibi öğrenebiliriz."
   ]
  },
  {
   "cell_type": "code",
   "execution_count": 32,
   "metadata": {},
   "outputs": [
    {
     "name": "stdout",
     "output_type": "stream",
     "text": [
      "['SET/20 RED RETROSPOT PAPER NAPKINS ']\n",
      "['SET/6 RED SPOTTY PAPER PLATES']\n",
      "['SET/6 RED SPOTTY PAPER CUPS']\n"
     ]
    }
   ],
   "source": [
    "check_id(df, 21080)\n",
    "check_id(df, 21094)\n",
    "check_id(df, 21086)"
   ]
  },
  {
   "cell_type": "markdown",
   "metadata": {
    "id": "EPwJitpTNQYc"
   },
   "source": [
    "## Application: Association Rule Learning Recommender"
   ]
  },
  {
   "cell_type": "markdown",
   "metadata": {},
   "source": [
    "İlk önce şunu söylemek lazım ki birliktelik kuralları, kullanıcı sepetine herhangi bir ürün eklemeden sistemde oluşturulur ve bir veri tabanında kaydedilir. Daha sonrasında kullanıcı ürün ekledikten sonra o ürüne göre hangi ürünü önereceğini veri tabnından okur ve kullanıcıya ürünü önerir.\n",
    "\n",
    "Şimdi burada kullanıcı diyelim ki 21094 kodlu ürünü sepetine ekledi peki şimdi biz hangi ürünü ona önermeliyiz."
   ]
  },
  {
   "cell_type": "code",
   "execution_count": 36,
   "metadata": {},
   "outputs": [
    {
     "name": "stdout",
     "output_type": "stream",
     "text": [
      "['SET/6 RED SPOTTY PAPER PLATES']\n"
     ]
    }
   ],
   "source": [
    "product_id = 21094 # kullanıcın sepetine eklendiği ürünün kodu\n",
    "check_id(df, 21094) # kullanıcın sepetine eklendiği ürünün ismi"
   ]
  },
  {
   "cell_type": "code",
   "execution_count": 34,
   "metadata": {},
   "outputs": [],
   "source": [
    "sorted_rules = rules.sort_values(\"lift\", ascending=False) # öncelikle lift değerine göre sıralama yaparız."
   ]
  },
  {
   "cell_type": "code",
   "execution_count": 39,
   "metadata": {},
   "outputs": [],
   "source": [
    "recommendation_list = []\n",
    "for i, product in enumerate(sorted_rules[\"antecedents\"]):\n",
    "    for j in list(product):\n",
    "        if j == product_id:\n",
    "            recommendation_list.append(list(sorted_rules.iloc[i][\"consequents\"])[0])"
   ]
  },
  {
   "cell_type": "code",
   "execution_count": 40,
   "metadata": {},
   "outputs": [
    {
     "data": {
      "text/plain": [
       "[21086, 22729]"
      ]
     },
     "execution_count": 40,
     "metadata": {},
     "output_type": "execute_result"
    }
   ],
   "source": [
    "recommendation_list[0:2] # product_id kodlu ürünümüze iki tane ayrı ürün önerdik."
   ]
  },
  {
   "cell_type": "markdown",
   "metadata": {},
   "source": [
    "Şimdi süreci fonksiyon halinde yazalım"
   ]
  },
  {
   "cell_type": "code",
   "execution_count": 41,
   "metadata": {
    "id": "6V8vbkYXNEMi"
   },
   "outputs": [],
   "source": [
    "def arl_recommender(rules_df, product_id, rec_count=1):\n",
    "  sorted_rules = rules_df.sort_values(\"lift\", ascending=False)\n",
    "  recommendation_list = []\n",
    "  for i, product in enumerate(sorted_rules[\"antecedents\"]):\n",
    "    for j in list(product):\n",
    "      if j == product_id:\n",
    "        recommendation_list.append(list(sorted_rules.iloc[i][\"consequents\"])[0])\n",
    "  return recommendation_list[0:rec_count]"
   ]
  },
  {
   "cell_type": "code",
   "execution_count": 42,
   "metadata": {
    "colab": {
     "base_uri": "https://localhost:8080/"
    },
    "id": "97s06Q_rOYsX",
    "outputId": "7c85e2c1-2fc9-4653-95fd-65aaffcc2f91"
   },
   "outputs": [
    {
     "data": {
      "text/plain": [
       "[21086, 22729]"
      ]
     },
     "execution_count": 42,
     "metadata": {},
     "output_type": "execute_result"
    }
   ],
   "source": [
    "arl_recommender(rules, 21094, 2)"
   ]
  },
  {
   "cell_type": "markdown",
   "metadata": {},
   "source": [
    "21094 kodlu ürün için önerilen diğer iki ürünün ismini öğrenmek içinde daha önce yazdığımız fonksiyonu kullanarak neler önerildiğini metinsel olarakta görebiliriz"
   ]
  },
  {
   "cell_type": "code",
   "execution_count": 43,
   "metadata": {},
   "outputs": [
    {
     "name": "stdout",
     "output_type": "stream",
     "text": [
      "['SET/6 RED SPOTTY PAPER PLATES']\n",
      "['SET/6 RED SPOTTY PAPER CUPS']\n",
      "['ALARM CLOCK BAKELIKE ORANGE']\n"
     ]
    }
   ],
   "source": [
    "check_id(df, 21094)\n",
    "check_id(df, 21086)\n",
    "check_id(df, 22729)"
   ]
  },
  {
   "cell_type": "code",
   "execution_count": null,
   "metadata": {},
   "outputs": [],
   "source": []
  }
 ],
 "metadata": {
  "colab": {
   "provenance": []
  },
  "kernelspec": {
   "display_name": "Python 3 (ipykernel)",
   "language": "python",
   "name": "python3"
  },
  "language_info": {
   "codemirror_mode": {
    "name": "ipython",
    "version": 3
   },
   "file_extension": ".py",
   "mimetype": "text/x-python",
   "name": "python",
   "nbconvert_exporter": "python",
   "pygments_lexer": "ipython3",
   "version": "3.11.4"
  }
 },
 "nbformat": 4,
 "nbformat_minor": 1
}
